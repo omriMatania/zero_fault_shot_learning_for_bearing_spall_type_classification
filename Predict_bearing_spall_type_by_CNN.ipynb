{
 "cells": [
  {
   "cell_type": "code",
   "execution_count": 151,
   "metadata": {
    "executionInfo": {
     "elapsed": 689,
     "status": "ok",
     "timestamp": 1658230611713,
     "user": {
      "displayName": "עמרי מתניה",
      "userId": "10129715939663802950"
     },
     "user_tz": -180
    },
    "id": "aMcQJUlY8crm"
   },
   "outputs": [],
   "source": [
    "import numpy as np\n",
    "import torch\n",
    "import torch.nn as nn\n",
    "from torch.autograd import Function\n",
    "import torch.nn.functional as F\n",
    "import torch.optim as optim\n",
    "from torch.utils.data import Dataset, DataLoader\n",
    "from sklearn.model_selection import train_test_split\n",
    "import random\n",
    "import matplotlib.pyplot as plt\n",
    "import warnings\n",
    "from sklearn.decomposition import PCA\n",
    "from sklearn.utils import shuffle\n",
    "import scipy.io\n",
    "import pdb\n",
    "\n",
    "import os\n",
    "from PIL import Image\n",
    "from torchvision.datasets import VisionDataset\n",
    "from torchvision.datasets.utils import download_and_extract_archive\n",
    "\n",
    "warnings.filterwarnings('ignore')\n",
    "\n",
    "def classification_acc(y_pred, y_true):\n",
    "    y_pred_tag = torch.softmax(y_pred, dim=1).argmax(dim=1)\n",
    "    y_true_tag = torch.softmax(y_true, dim=1).argmax(dim=1)\n",
    "\n",
    "    correct_results_sum = (y_pred_tag == y_true_tag).float().sum()\n",
    "    acc = correct_results_sum/float(y_true.size(0))*100\n",
    "    return acc\n",
    "\n",
    "def domain_acc(y_pred, y_true):\n",
    "    y_pred_tag = torch.round(torch.sigmoid(y_pred))\n",
    "\n",
    "    correct_results_sum = (y_pred_tag == y_true).sum().float()\n",
    "    acc = correct_results_sum/y_true.shape[0]*100\n",
    "    \n",
    "    return acc\n",
    "    \n",
    "## Dataset class for training\n",
    "class SimpleDataset(Dataset):\n",
    "    \n",
    "    def __init__(self, X_data, y_data):\n",
    "        #pdb.set_trace()\n",
    "        self.X_data = torch.unsqueeze(X_data, dim=1)\n",
    "        self.y_data = y_data\n",
    "        \n",
    "    def __getitem__(self, index):\n",
    "        return self.X_data[index], self.y_data[index]\n",
    "        \n",
    "    def __len__ (self):\n",
    "        return len(self.X_data)\n",
    "\n",
    "def convert_X_y_mat2py(X, y):\n",
    "    \n",
    "    X = X.transpose()\n",
    "    y = y.squeeze()\n",
    "    y = y - 1\n",
    "    \n",
    "    return X, y"
   ]
  },
  {
   "cell_type": "code",
   "execution_count": 152,
   "metadata": {
    "colab": {
     "base_uri": "https://localhost:8080/"
    },
    "executionInfo": {
     "elapsed": 835,
     "status": "ok",
     "timestamp": 1658230941536,
     "user": {
      "displayName": "עמרי מתניה",
      "userId": "10129715939663802950"
     },
     "user_tz": -180
    },
    "id": "gFN8-tfns6-W",
    "outputId": "bb1c6906-ef80-4309-9bf8-7cdd8337cf7c"
   },
   "outputs": [
    {
     "name": "stdout",
     "output_type": "stream",
     "text": [
      "Trainning / Validation sizes: 5063/2170\n",
      "Test size: 50\n"
     ]
    }
   ],
   "source": [
    "# Third code block - data loading\n",
    "BATCH_SIZE = 64\n",
    "test_set_name = 'CWRU' # 'MFPT', 'PU', 'XJTU_SY', 'PRONOSTIA-FEMTO', 'NBSWT'\n",
    "datasets_names = ['CWRU', 'MFPT', 'PU', 'XJTU_SY', 'PRONOSTIA-FEMTO', 'NBSWT']\n",
    "data_path = 'E:\\\\data\\\\papers\\\\zero_fault_shot_learning\\\\datasets'\n",
    "processed_data = scipy.io.loadmat(data_path + '\\\\processed_data.mat')\n",
    "\n",
    "X_training = processed_data[\"X_training\"]\n",
    "y_training = processed_data[\"y_training\"]\n",
    "X_training, y_training = convert_X_y_mat2py(X_training, y_training)\n",
    "\n",
    "X_test = processed_data[\"X_test\"]\n",
    "y_test = processed_data[\"y_test\"]\n",
    "X_test, y_test = convert_X_y_mat2py(X_test, y_test)\n",
    "\n",
    "X_training, y_training = shuffle(X_training, y_training, random_state=0)\n",
    "X_training, X_val, y_training, y_val = train_test_split(X_training, y_training, \n",
    "                                                        test_size=0.3, random_state=42)\n",
    "\n",
    "training_data = SimpleDataset(torch.FloatTensor(X_training), torch.FloatTensor(y_training))\n",
    "val_data = SimpleDataset(torch.FloatTensor(X_val), torch.FloatTensor(y_val))\n",
    "test_data = SimpleDataset(torch.FloatTensor(X_test), torch.FloatTensor(y_test))\n",
    "\n",
    "## Creating dataloaders\n",
    "training_loader = DataLoader(dataset=training_data, batch_size=BATCH_SIZE, shuffle=False)\n",
    "val_loader = DataLoader(dataset=val_data, batch_size=BATCH_SIZE, shuffle=False)\n",
    "test_loader = DataLoader(dataset=test_data, batch_size=BATCH_SIZE, shuffle=False)\n",
    "\n",
    "print(\"Trainning / Validation sizes: \" + str(len(training_data)) + \"/\" + str(len(val_data)))\n",
    "print(\"Test size: \" + str(len(test_data)))"
   ]
  },
  {
   "cell_type": "code",
   "execution_count": 153,
   "metadata": {
    "colab": {
     "base_uri": "https://localhost:8080/",
     "height": 1000
    },
    "executionInfo": {
     "elapsed": 35217,
     "status": "ok",
     "timestamp": 1658230978189,
     "user": {
      "displayName": "עמרי מתניה",
      "userId": "10129715939663802950"
     },
     "user_tz": -180
    },
    "id": "nSUOUrsB0h1C",
    "outputId": "82038f0b-c5bb-41fc-f384-a2c6cb7656e7"
   },
   "outputs": [],
   "source": [
    "class features_extractor_Model(nn.Module):\n",
    "\n",
    "    def __init__(self, special_number):\n",
    "        super(features_extractor_Model, self).__init__()\n",
    "        # Feature Extractor part\n",
    "        self.conv1 = nn.Conv1d(1, 5, 10)  # input is (x,y)\n",
    "        self.pool = nn.MaxPool1d(10)\n",
    "        self.conv2 = nn.Conv1d(5, 3, 10)\n",
    "        self.conv3 = nn.Conv1d(3, 3, 3)\n",
    "        self.fc1 = nn.Linear(3*special_number, 10)\n",
    "        self.fc2 = nn.Linear(10, 10)\n",
    "        \n",
    "        #self.fc3 = nn.Linear(10, 3)\n",
    "\n",
    "        #self.apply(self._init_weights)\n",
    "\n",
    "    def _init_weights(self, module):\n",
    "        #pdb.set_trace()\n",
    "        if isinstance(module, nn.Linear):\n",
    "            module.weight.data.normal_(mean=0.0, std=1.0)\n",
    "            if module.bias is not None:\n",
    "                module.bias.data.zero_()\n",
    "        #torch.nn.init.xavier_uniform_(tensor, gain=1.0)\n",
    "                \n",
    "    def forward(self, x):\n",
    "        # Feature Extractor part\n",
    "        #pdb.set_trace()\n",
    "        x = self.pool(F.relu(self.conv1(x)))\n",
    "        x = self.pool(F.relu(self.conv2(x)))\n",
    "        x = self.pool(F.relu(self.conv3(x)))\n",
    "        #pdb.set_trace()\n",
    "        x = x.view(-1, x.size(1)*x.size(2))\n",
    "        x = F.relu(self.fc1(x))\n",
    "        features = F.relu(self.fc2(x))\n",
    "        \n",
    "        return features"
   ]
  },
  {
   "cell_type": "code",
   "execution_count": 154,
   "metadata": {},
   "outputs": [],
   "source": [
    "class classModel(nn.Module):\n",
    "\n",
    "    def __init__(self):\n",
    "        super(classModel, self).__init__()\n",
    "        # Feature Extractor part\n",
    "        self.fc1 = nn.Linear(10, 10)  # input is (x,y)\n",
    "        self.fc2 = nn.Linear(10, 10)  # input is (x,y)\n",
    "        self.fc3 = nn.Linear(10, 10)  # input is (x,y)\n",
    "        self.fc4 = nn.Linear(10, 3)\n",
    "\n",
    "        #self.apply(self._init_weights)\n",
    "\n",
    "    def _init_weights(self, module):\n",
    "        if isinstance(module, nn.Linear):\n",
    "            module.weight.data.normal_(mean=0.0, std=1.0)\n",
    "            if module.bias is not None:\n",
    "                module.bias.data.zero_()\n",
    "                \n",
    "    def forward(self, x):\n",
    "        # Feature Extractor part\n",
    "        x = F.relu(self.fc1(x))\n",
    "        x = F.relu(self.fc2(x))\n",
    "        x = F.relu(self.fc3(x))\n",
    "        pred = F.softmax(self.fc4(x))\n",
    "        #pred = self.fc1(x)\n",
    "        \n",
    "        return pred"
   ]
  },
  {
   "cell_type": "code",
   "execution_count": 155,
   "metadata": {},
   "outputs": [],
   "source": [
    "class Trainer():\n",
    "    def __init__(self, features_extractor, class_model, LEARNING_RATE, device=\"cpu\"):\n",
    "        self.features_extractor = features_extractor\n",
    "        self.class_model = class_model\n",
    "        self.criterion = nn.CrossEntropyLoss()\n",
    "        self.LEARNING_RATE = LEARNING_RATE\n",
    "        self.optimizer = optim.Adam(list(self.features_extractor.parameters()) + \n",
    "                   list(self.class_model.parameters()), lr=LEARNING_RATE)\n",
    "        #self.features_extractor_optimizer = optim.Adam(self.features_extractor.parameters(), lr=LEARNING_RATE)\n",
    "        #self.class_model_optimizer = optim.Adam(self.class_model.parameters(), lr=LEARNING_RATE)\n",
    "        self.device = device\n",
    "        \n",
    "    def train(self, data_loader, eval_data_loader, EPOCHS):   \n",
    "        self.features_extractor.zero_grad()\n",
    "        self.features_extractor.train()\n",
    "        self.class_model.zero_grad()\n",
    "        self.class_model.train()\n",
    "        \n",
    "        ## Training Epochs\n",
    "        for e in range(1, EPOCHS+1):\n",
    "            epoch_bce_loss = 0\n",
    "            epoch_acc = 0\n",
    "\n",
    "            ## Mini-bacth Handling\n",
    "            for X, y in data_loader:\n",
    "                X, y = X.to(self.device), y.to(self.device)\n",
    "                y = nn.functional.one_hot(y.long(), num_classes=3).float()\n",
    "                self.optimizer.zero_grad()\n",
    "                #self.features_extractor_optimizer.zero_grad()\n",
    "                #self.class_model_optimizer.zero_grad()\n",
    "\n",
    "                # Forward pass\n",
    "                #pdb.set_trace()\n",
    "                features = self.features_extractor(X)\n",
    "                pred = self.class_model(features)\n",
    "\n",
    "                # Loss calculations\n",
    "                #pdb.set_trace()\n",
    "                bce_loss = self.criterion(pred, y)                        \n",
    "                loss = bce_loss\n",
    "                acc = classification_acc(pred, y)\n",
    "\n",
    "                # Back-propagation\n",
    "                loss.backward()\n",
    "                self.optimizer.step()\n",
    "                #self.features_extractor_optimizer.step()\n",
    "                #self.class_model_optimizer.step()\n",
    "\n",
    "                # Metrics update\n",
    "                epoch_bce_loss += bce_loss.item()\n",
    "                epoch_acc += acc.item()\n",
    "\n",
    "            print(f'Epoch {e+0:03}: | BCE Loss: {epoch_bce_loss/len(data_loader):.5f} | Train Acc: {epoch_acc/len(data_loader):.3f}')\n",
    "\n",
    "            ## Evaluating on Target\n",
    "            self.evaluate(eval_data_loader, data_type=\"Val\")\n",
    "\n",
    "    def evaluate(self, data_loader, data_type=\"Val\"):\n",
    "        test_loss = 0\n",
    "        test_acc = 0\n",
    "        self.features_extractor.eval()\n",
    "        self.class_model.eval()\n",
    "        batch_sizes = []\n",
    "        \n",
    "        ## Iterate over all dataset\n",
    "        with torch.no_grad():\n",
    "            for X_batch, y_batch in data_loader:\n",
    "                #pdb.set_trace()\n",
    "                X_batch, y_batch = X_batch.to(device), y_batch.to(device)\n",
    "                y_batch = nn.functional.one_hot(y_batch.long(), num_classes=3).float()\n",
    "                \n",
    "                features = self.features_extractor(X_batch)\n",
    "                y_pred = self.class_model(features)\n",
    "                loss = self.criterion(y_pred, y_batch)\n",
    "                acc = classification_acc(y_pred, y_batch)\n",
    "                \n",
    "                batch_sizes.append(len(y_batch))\n",
    "                \n",
    "                test_loss += (len(y_batch) / batch_sizes[0]) * loss.item()\n",
    "                test_acc += (len(y_batch) / batch_sizes[0]) * acc.item()\n",
    "                \n",
    "        nrml_factor = sum(batch_sizes) / batch_sizes[0]\n",
    "\n",
    "        print(data_type + f' | Loss: {test_loss/nrml_factor:.5f} | Acc: {test_acc/nrml_factor:.3f}')\n",
    "\n",
    "    def predict(self, data_loader):\n",
    "        data = torch.empty((1,2))\n",
    "        #pdb.set_trace()\n",
    "        preds = torch.empty((0))\n",
    "        y_real = torch.empty((0))\n",
    "        self.features_extractor.eval()\n",
    "        self.class_model.eval()\n",
    "        \n",
    "        ## Iterate over all dataset\n",
    "        with torch.no_grad():\n",
    "            for X_batch, y_batch in data_loader:\n",
    "                #pdb.set_trace()\n",
    "                X_batch = X_batch.to(device)\n",
    "                y_batch = y_batch.to(device)\n",
    "                \n",
    "                features = self.features_extractor(X_batch)\n",
    "                y_pred = self.class_model(features)\n",
    "\n",
    "                y_pred_tag = torch.softmax(y_pred, dim=1).argmax(dim=1)\n",
    "\n",
    "                #data = torch.cat((data, X_batch))\n",
    "                preds = torch.cat((preds, y_pred_tag))\n",
    "                y_real = torch.cat((y_real, y_batch))\n",
    "\n",
    "        return preds, y_real"
   ]
  },
  {
   "cell_type": "code",
   "execution_count": 156,
   "metadata": {
    "colab": {
     "base_uri": "https://localhost:8080/"
    },
    "executionInfo": {
     "elapsed": 466,
     "status": "ok",
     "timestamp": 1658153092411,
     "user": {
      "displayName": "עמרי מתניה",
      "userId": "10129715939663802950"
     },
     "user_tz": -180
    },
    "id": "vwVg1rknAuKo",
    "outputId": "90b59480-cbd0-4956-b6e6-4775424bc43d"
   },
   "outputs": [
    {
     "name": "stdout",
     "output_type": "stream",
     "text": [
      "Epoch 001: | BCE Loss: 0.85860 | Train Acc: 68.223\n",
      "Val | Loss: 0.55316 | Acc: 100.000\n",
      "Epoch 002: | BCE Loss: 0.55196 | Train Acc: 100.000\n",
      "Val | Loss: 0.55148 | Acc: 100.000\n",
      "Epoch 003: | BCE Loss: 0.55148 | Train Acc: 100.000\n",
      "Val | Loss: 0.55146 | Acc: 100.000\n",
      "Epoch 004: | BCE Loss: 0.55147 | Train Acc: 100.000\n",
      "Val | Loss: 0.55146 | Acc: 100.000\n",
      "Epoch 005: | BCE Loss: 0.55146 | Train Acc: 100.000\n",
      "Val | Loss: 0.55145 | Acc: 100.000\n",
      "\n",
      "Val | Loss: 0.55145 | Acc: 100.000\n",
      "Test | Loss: 1.52933 | Acc: 0.000\n"
     ]
    }
   ],
   "source": [
    "torch.manual_seed(10)\n",
    "\n",
    "## Train parameters\n",
    "EPOCHS = 5\n",
    "LEARNING_RATE = 0.003\n",
    "device = 'cpu'\n",
    "\n",
    "if X_training.shape[1] == 7133:\n",
    "    special_number = 6\n",
    "elif X_training.shape[1] == 16389:\n",
    "    special_number = 16\n",
    "elif X_training.shape[1] == 16075:\n",
    "    special_number = 15\n",
    "elif X_training.shape[1] == 2957:\n",
    "    special_number = 2\n",
    "elif X_training.shape[1] == 4930:\n",
    "    special_number = 4\n",
    "elif X_training.shape[1] == 2203:\n",
    "    special_number = 1\n",
    "elif X_training.shape[1] == 2361:\n",
    "    special_number = 2\n",
    "elif X_training.shape[1] == 2518:\n",
    "    special_number = 2\n",
    "elif X_training.shape[1] == 2204:\n",
    "    special_number = 1\n",
    "elif X_training.shape[1] == 2185:\n",
    "    special_number = 1\n",
    "elif X_training.shape[1] == 16658:\n",
    "    special_number = 16\n",
    "    \n",
    "## Creating model\n",
    "#input_dim = X_training.shape[1]\n",
    "features_extractor = features_extractor_Model(special_number)\n",
    "class_model = classModel()\n",
    "features_extractor.to(device)\n",
    "class_model.to(device)\n",
    "#print(str(features_extractor)+\"\\n\")\n",
    "#print(str(class_model)+\"\\n\")\n",
    "\n",
    "## Training model\n",
    "trainer = Trainer(features_extractor, class_model, LEARNING_RATE)\n",
    "trainer.train(training_loader, val_loader, EPOCHS)\n",
    "\n",
    "print()\n",
    "trainer.evaluate(val_loader, \"Val\")\n",
    "trainer.evaluate(test_loader, \"Test\")"
   ]
  },
  {
   "cell_type": "code",
   "execution_count": 157,
   "metadata": {},
   "outputs": [
    {
     "data": {
      "text/plain": [
       "(tensor([2., 2., 2., 2., 2., 2., 2., 2., 2., 2., 2., 2., 2., 2., 2., 2., 2., 2.,\n",
       "         2., 2., 2., 2., 2., 2., 2., 2., 2., 0., 0., 0., 0., 2., 2., 0., 0., 2.,\n",
       "         0., 0., 0., 0., 0., 0., 2., 2., 2., 0., 2., 0., 0., 2.]),\n",
       " tensor([1., 1., 1., 1., 1., 1., 1., 1., 1., 1., 1., 1., 1., 1., 1., 1., 1., 1.,\n",
       "         1., 1., 1., 1., 1., 1., 1., 1., 1., 1., 1., 1., 1., 1., 1., 1., 1., 1.,\n",
       "         1., 1., 1., 1., 1., 1., 1., 1., 1., 1., 1., 1., 1., 1.]))"
      ]
     },
     "execution_count": 157,
     "metadata": {},
     "output_type": "execute_result"
    }
   ],
   "source": [
    "trainer.predict(test_loader)"
   ]
  },
  {
   "cell_type": "code",
   "execution_count": 158,
   "metadata": {},
   "outputs": [
    {
     "data": {
      "text/plain": [
       "array([1, 1, 1, 1, 1, 1, 1, 1, 1, 1, 1, 1, 1, 1, 1, 1, 1, 1, 1, 1, 1, 1,\n",
       "       1, 1, 1, 1, 1, 1, 1, 1, 1, 1, 1, 1, 1, 1, 1, 1, 1, 1, 1, 1, 1, 1,\n",
       "       1, 1, 1, 1, 1, 1], dtype=uint8)"
      ]
     },
     "execution_count": 158,
     "metadata": {},
     "output_type": "execute_result"
    }
   ],
   "source": [
    "y_test"
   ]
  },
  {
   "cell_type": "code",
   "execution_count": 159,
   "metadata": {},
   "outputs": [],
   "source": [
    "y_prd = trainer.predict(test_loader)\n",
    "y_prd = y_prd[0]"
   ]
  },
  {
   "cell_type": "code",
   "execution_count": 160,
   "metadata": {},
   "outputs": [
    {
     "name": "stdout",
     "output_type": "stream",
     "text": [
      "Confusion Matrix:\n",
      "[[ 0  0  0]\n",
      " [15  0 35]\n",
      " [ 0  0  0]]\n"
     ]
    }
   ],
   "source": [
    "#y_test = [1, 0, 1, 1, 0, 1, 0, 0]\n",
    "#y_prd = [1, 0, 1, 1, 0, 0, 1, 0]\n",
    "\n",
    "from sklearn.metrics import confusion_matrix\n",
    "\n",
    "# Calculate confusion matrix\n",
    "conf_matrix = confusion_matrix(y_test, y_prd)\n",
    "\n",
    "print(\"Confusion Matrix:\")\n",
    "print(conf_matrix)"
   ]
  },
  {
   "cell_type": "code",
   "execution_count": null,
   "metadata": {},
   "outputs": [],
   "source": []
  }
 ],
 "metadata": {
  "colab": {
   "authorship_tag": "ABX9TyPHtU0gh6kWRyBv2lJQGRfk",
   "collapsed_sections": [],
   "name": "Untitled0.ipynb",
   "provenance": []
  },
  "kernelspec": {
   "display_name": "Python 3 (ipykernel)",
   "language": "python",
   "name": "python3"
  },
  "language_info": {
   "codemirror_mode": {
    "name": "ipython",
    "version": 3
   },
   "file_extension": ".py",
   "mimetype": "text/x-python",
   "name": "python",
   "nbconvert_exporter": "python",
   "pygments_lexer": "ipython3",
   "version": "3.10.0"
  }
 },
 "nbformat": 4,
 "nbformat_minor": 1
}
